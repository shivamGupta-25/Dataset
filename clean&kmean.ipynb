{
 "cells": [
  {
   "cell_type": "code",
   "execution_count": null,
   "id": "2b00aad1-9e18-4dcf-86ea-97a585c1e9fb",
   "metadata": {},
   "outputs": [],
   "source": [
    "import pandas as pd\n",
    "import numpy as np\n",
    "import matplotlib.pyplot as plt\n",
    "import seaborn as sns\n",
    "import sklearn\n",
    "%matplotlib inline"
   ]
  },
  {
   "cell_type": "code",
   "execution_count": null,
   "id": "ad1aa564-b52f-4d64-ae31-408751636e06",
   "metadata": {},
   "outputs": [],
   "source": [
    "pd.set_option('display.max_columns',85)\n",
    "pd.set_option('display.max_rows',85)"
   ]
  },
  {
   "cell_type": "code",
   "execution_count": null,
   "id": "5f5553cd-d976-4247-a0b5-fdebafaaabce",
   "metadata": {},
   "outputs": [],
   "source": [
    "# Path to the .arff file\n",
    "file_path = r\"D:\\DataMining\\Chronic Kidney Disease\\ChronicKidneyDisease_dataset.csv\""
   ]
  },
  {
   "cell_type": "code",
   "execution_count": null,
   "id": "59904b48-6f4c-483b-910f-16bbd72e2f95",
   "metadata": {},
   "outputs": [],
   "source": [
    "df = pd.read_csv(file_path)"
   ]
  },
  {
   "cell_type": "code",
   "execution_count": null,
   "id": "e6fb5c0e-dc22-4678-81ff-ef7059510bec",
   "metadata": {},
   "outputs": [],
   "source": [
    "df.head()"
   ]
  },
  {
   "cell_type": "code",
   "execution_count": null,
   "id": "c6ce7c71-48f2-4fef-8bed-164b513675eb",
   "metadata": {},
   "outputs": [],
   "source": [
    "df.shape"
   ]
  },
  {
   "cell_type": "markdown",
   "id": "78956b0d-5bfd-4bfc-92dd-504b2fabaebb",
   "metadata": {},
   "source": [
    "## Practical Question 1\n",
    "#### Apply data cleaning techniques on any dataset (e.g. Chronic Kidney Disease dataset from UCI repository). Techniques may include handling missing values, outliers and inconsistent values. Also, a set of validation rules may be specified for the particular dataset and validation checks performed."
   ]
  },
  {
   "cell_type": "markdown",
   "id": "cf5a2f05-8063-4886-bd4d-f456068af55b",
   "metadata": {},
   "source": [
    "#### Handeling Missing values"
   ]
  },
  {
   "cell_type": "code",
   "execution_count": null,
   "id": "63698b27-4d9e-49b7-8b5e-3fcb01e13a52",
   "metadata": {},
   "outputs": [],
   "source": [
    "df.head()"
   ]
  },
  {
   "cell_type": "code",
   "execution_count": null,
   "id": "6919e7b8-ff93-4e33-943e-24cff78f9da7",
   "metadata": {},
   "outputs": [],
   "source": [
    "# Strip unwanted characters (\\t) from all string columns\n",
    "df = df.applymap(lambda x: x.strip() if isinstance(x, str) else x)\n",
    "\n",
    "## We can see that missing value is filles with \"?\"\n",
    "df.replace(\"?\", np.nan, inplace = True)"
   ]
  },
  {
   "cell_type": "code",
   "execution_count": null,
   "id": "decf0a7f-e3ba-47c7-8fb6-0cd1d2103eec",
   "metadata": {
    "scrolled": true
   },
   "outputs": [],
   "source": [
    "df.info()"
   ]
  },
  {
   "cell_type": "code",
   "execution_count": null,
   "id": "882da108-3be8-421f-9303-ab4044ae6e11",
   "metadata": {},
   "outputs": [],
   "source": [
    "# Droping if a full Row is NULL\n",
    "\n",
    "df.dropna(axis = 'index', how = 'all', inplace = True)"
   ]
  },
  {
   "cell_type": "code",
   "execution_count": null,
   "id": "964df6bf-494e-4902-b70c-d798afee9660",
   "metadata": {},
   "outputs": [],
   "source": [
    "df.drop_duplicates(inplace = True)"
   ]
  },
  {
   "cell_type": "code",
   "execution_count": null,
   "id": "691b33d8-d096-45ce-b97f-25461cbbc3c1",
   "metadata": {},
   "outputs": [],
   "source": [
    "df.head()"
   ]
  },
  {
   "cell_type": "code",
   "execution_count": null,
   "id": "a6d7aa96-4d5f-4681-adec-ef59a924fa7a",
   "metadata": {},
   "outputs": [],
   "source": [
    "df.columns"
   ]
  },
  {
   "cell_type": "code",
   "execution_count": null,
   "id": "b5c533f0-cfb6-485b-95a7-45ae25e55199",
   "metadata": {},
   "outputs": [],
   "source": [
    "# List of columns to convert to float\n",
    "float_columns = ['age', 'bp', 'sg', 'al', 'su', 'bgr', 'bu', \n",
    "                 'sc', 'sod', 'pot', 'hemo', 'pcv', 'rc', 'wc']\n",
    "\n",
    "# Convert each column to float\n",
    "df[float_columns] = df[float_columns].astype('float')"
   ]
  },
  {
   "cell_type": "code",
   "execution_count": null,
   "id": "31901153-9e8c-4a86-b3b7-835df3609559",
   "metadata": {},
   "outputs": [],
   "source": [
    "df.info()"
   ]
  },
  {
   "cell_type": "code",
   "execution_count": null,
   "id": "d550d403-6081-443a-8154-14b199e340d7",
   "metadata": {},
   "outputs": [],
   "source": [
    "df.isna().sum().sort_values(ascending = False)"
   ]
  },
  {
   "cell_type": "code",
   "execution_count": null,
   "id": "11ebfec8-6842-4d61-b08b-d6956c7b452d",
   "metadata": {},
   "outputs": [],
   "source": [
    "## Column bifercation\n",
    "\n",
    "numerical_cols = df.select_dtypes(include=['float64']).columns\n",
    "non_numerical_cols = df.select_dtypes(include = ['object']).columns"
   ]
  },
  {
   "cell_type": "markdown",
   "id": "858a4d24-9949-4e44-b14f-0930545c1db3",
   "metadata": {},
   "source": [
    "## Using pandas"
   ]
  },
  {
   "cell_type": "code",
   "execution_count": null,
   "id": "1af29ef1-e863-48c9-b911-3dd479186ba0",
   "metadata": {},
   "outputs": [],
   "source": [
    "#Impute missing values (e.g., using mean or median or mode) \n",
    "\n",
    "#For example, imputing with mean for numerical columns\n",
    "df[numerical_cols] = df[numerical_cols].fillna(df[numerical_cols].median())\n",
    "\n",
    "for col in non_numerical_cols:\n",
    "    # Ensure mode is not empty, then fill missing values with the mode\n",
    "    mode_value = df[col].mode()[0]\n",
    "    df[col] = df[col].fillna(mode_value)"
   ]
  },
  {
   "cell_type": "markdown",
   "id": "f0f18d23-4261-40e9-87cc-8eba93aebcf7",
   "metadata": {},
   "source": [
    "## Using sklearn"
   ]
  },
  {
   "cell_type": "code",
   "execution_count": null,
   "id": "54ed2297-ea0e-4e9a-8a02-d258b0ccd0c7",
   "metadata": {},
   "outputs": [],
   "source": [
    "from sklearn.impute import SimpleImputer"
   ]
  },
  {
   "cell_type": "code",
   "execution_count": null,
   "id": "64d90440-b44c-45cc-844e-27a59195e0b0",
   "metadata": {},
   "outputs": [],
   "source": [
    "impute_median = SimpleImputer(missing_values=np.nan, strategy='median')\n",
    "imputer_mode = SimpleImputer(missing_values=np.nan, strategy = \"most_frequent\")"
   ]
  },
  {
   "cell_type": "code",
   "execution_count": null,
   "id": "99b9aaf4-e377-4eab-a26e-bae2578442b9",
   "metadata": {},
   "outputs": [],
   "source": [
    "df[numerical_cols] = imputer_mode.fit_transform(df[numerical_cols])\n",
    "df[non_numerical_cols] = imputer_mode.fit_transform(df[non_numerical_cols])"
   ]
  },
  {
   "cell_type": "code",
   "execution_count": null,
   "id": "68b8a6ec-9cb1-4ec6-8b48-a223a810037f",
   "metadata": {},
   "outputs": [],
   "source": [
    "df.isna().sum().loc[lambda x : x > 0]"
   ]
  },
  {
   "cell_type": "code",
   "execution_count": null,
   "id": "6df66f0a-2cf3-4b51-b256-db492885d505",
   "metadata": {},
   "outputs": [],
   "source": [
    "# Set number of rows and columns for subplots\n",
    "n_cols = 3  # Number of plots per row\n",
    "n_rows = (len(numerical_cols) + n_cols - 1) // n_cols  # Calculate rows needed (ceil division)\n",
    "\n",
    "plt.figure(figsize=(16, 4 * n_rows))  # Adjust figure size based on rows\n",
    "\n",
    "for idx, col in enumerate(numerical_cols, start=1):\n",
    "    plt.subplot(n_rows, n_cols, idx)  # Arrange subplots in grid\n",
    "    sns.boxplot(data=df, x=col)  # Boxplot for each column\n",
    "    plt.title(col, fontsize=10)  # Add a title for each subplot\n",
    "\n",
    "plt.tight_layout()  # Adjust layout to avoid overlap\n",
    "plt.show()"
   ]
  },
  {
   "cell_type": "code",
   "execution_count": null,
   "id": "d8618f2d-8a79-4117-9b8c-38016683ab7f",
   "metadata": {},
   "outputs": [],
   "source": []
  },
  {
   "cell_type": "markdown",
   "id": "5e16dad2-8a41-4edb-b06c-a5528a927e6f",
   "metadata": {},
   "source": [
    "# Outliers"
   ]
  },
  {
   "cell_type": "markdown",
   "id": "50f223eb-34e9-4fc9-9f64-13f306f056a3",
   "metadata": {},
   "source": [
    "## Inter Quartile Range (IQR)\n",
    "1. Sort data\n",
    "2. Calculate Q1(25%) and Q3(75%)\n",
    "3. IQR = Q3 - Q1\n",
    "4. Find the lower Fence (Q1 - 1.5(IQR))\n",
    "5. Find the upper Fence (Q3 + 1.5(IQR))"
   ]
  },
  {
   "cell_type": "markdown",
   "id": "93face9a-991c-4778-8a1b-a0c8304b9cfa",
   "metadata": {},
   "source": [
    "## Trimming Outliers"
   ]
  },
  {
   "cell_type": "code",
   "execution_count": null,
   "id": "f8e1d611-7788-4e2d-994f-4126664e15de",
   "metadata": {},
   "outputs": [],
   "source": [
    "trim_df = df.copy()\n",
    "\n",
    "def trim_outliers_iqr(df, column):\n",
    "    Q1 = df[column].quantile(0.25)\n",
    "    Q3 = df[column].quantile(0.75)\n",
    "    IQR = Q3 - Q1\n",
    "    lower_limit = Q1 - 1.5 * IQR\n",
    "    upper_limit = Q3 + 1.5 * IQR\n",
    "    \n",
    "    return df[(df[column] <= upper_limit) & (df[column] >= lower_limit)]\n",
    "\n",
    "# Apply to relevant numerical columns\n",
    "for col in numerical_cols:\n",
    "    trim_df = trim_outliers_iqr(trim_df, col)"
   ]
  },
  {
   "cell_type": "markdown",
   "id": "a33f3d39-e97b-4223-9a62-9efdeb624d66",
   "metadata": {},
   "source": [
    "## Capping"
   ]
  },
  {
   "cell_type": "code",
   "execution_count": null,
   "id": "2ca35ca5-80dd-4bb6-adea-fb890fac8724",
   "metadata": {},
   "outputs": [],
   "source": [
    "def cap_outliers(df, column):\n",
    "    Q1 = df[column].quantile(0.25)\n",
    "    Q3 = df[column].quantile(0.75)\n",
    "    IQR = Q3 - Q1\n",
    "    lower_limit = Q1 - 1.5 * IQR\n",
    "    upper_limit = Q3 + 1.5 * IQR\n",
    "    \n",
    "    df[column] = np.where(df[column] > upper_limit, upper_limit,\n",
    "                                             np.where(df[column] < lower_limit, lower_limit, df[column]))\n",
    "    return df[column]\n",
    "\n",
    "for col in numerical_cols:\n",
    "    df[col] = cap_outliers(df, col)"
   ]
  },
  {
   "cell_type": "markdown",
   "id": "57cfb792-a8dc-4854-bbd1-ef02a4f022eb",
   "metadata": {},
   "source": [
    "### After Capping Visualization"
   ]
  },
  {
   "cell_type": "code",
   "execution_count": null,
   "id": "63d60b6e-7923-4540-aaf0-d8e0a5e47ebf",
   "metadata": {},
   "outputs": [],
   "source": [
    "# Set number of rows and columns for subplots\n",
    "n_cols = 3  # Number of plots per row\n",
    "n_rows = (len(numerical_cols) + n_cols - 1) // n_cols  # Calculate rows needed (ceil division)\n",
    "\n",
    "plt.figure(figsize=(16, 4 * n_rows))  # Adjust figure size based on rows\n",
    "\n",
    "for idx, col in enumerate(numerical_cols, start=1):\n",
    "    plt.subplot(n_rows, n_cols, idx)  # Arrange subplots in grid\n",
    "    sns.boxplot(data=df, x=col)  # Boxplot for each column\n",
    "    plt.title(col, fontsize=10)  # Add a title for each subplot\n",
    "\n",
    "plt.tight_layout()  # Adjust layout to avoid overlap\n",
    "plt.show()"
   ]
  },
  {
   "cell_type": "markdown",
   "id": "eb89af7d-00ad-4700-8648-970d91201343",
   "metadata": {},
   "source": [
    "### After trimming Visualization"
   ]
  },
  {
   "cell_type": "code",
   "execution_count": null,
   "id": "50118888-4763-4c9b-966f-9fdc5a61182e",
   "metadata": {},
   "outputs": [],
   "source": [
    "# Set number of rows and columns for subplots\n",
    "n_cols = 3  # Number of plots per row\n",
    "n_rows = (len(numerical_cols) + n_cols - 1) // n_cols  # Calculate rows needed (ceil division)\n",
    "\n",
    "plt.figure(figsize=(16, 4 * n_rows))  # Adjust figure size based on rows\n",
    "\n",
    "for idx, col in enumerate(numerical_cols, start=1):\n",
    "    plt.subplot(n_rows, n_cols, idx)  # Arrange subplots in grid\n",
    "    sns.boxplot(data=trim_df, x=col)  # Boxplot for each column\n",
    "    plt.title(col, fontsize=10)  # Add a title for each subplot\n",
    "\n",
    "plt.tight_layout()  # Adjust layout to avoid overlap\n",
    "plt.show()"
   ]
  },
  {
   "cell_type": "markdown",
   "id": "a7c4296c-dffd-47bf-9c47-8dedfd337551",
   "metadata": {},
   "source": [
    "## Practical Question 3\n",
    "#### Apply simple K-means algorithm for clustering any dataset. Compare the performance of clusters by varying the algorithm parameters. For a given set of parameters, plot a line graph depicting MSE obtained after each iteration."
   ]
  },
  {
   "cell_type": "code",
   "execution_count": null,
   "id": "83d9a0f0-66ad-4408-972c-4a215fa951a2",
   "metadata": {},
   "outputs": [],
   "source": [
    "from sklearn.datasets import make_blobs\n",
    "from sklearn.metrics import mean_squared_error"
   ]
  },
  {
   "cell_type": "code",
   "execution_count": null,
   "id": "302ea8a7-3ea9-4ab7-83d1-eb8801d448d7",
   "metadata": {},
   "outputs": [],
   "source": [
    "df = pd.read_csv('student_clustering.csv')"
   ]
  },
  {
   "cell_type": "code",
   "execution_count": null,
   "id": "076bda2c-614a-4327-b40b-fd0147bff1b7",
   "metadata": {},
   "outputs": [],
   "source": [
    "df.head()"
   ]
  },
  {
   "cell_type": "code",
   "execution_count": null,
   "id": "05420dd9-a958-43a9-860c-c0acf74d77f9",
   "metadata": {},
   "outputs": [],
   "source": [
    "df.shape"
   ]
  },
  {
   "cell_type": "markdown",
   "id": "cbdffde3-eac2-4a55-936a-41558b17db73",
   "metadata": {},
   "source": [
    "#### students data of 200 students with Attribute like cgpa and IQ\n",
    "#### on the basic of these two values we need to cluster them"
   ]
  },
  {
   "cell_type": "code",
   "execution_count": null,
   "id": "833e609a-026f-43b2-8ae3-bbfb4fec6a66",
   "metadata": {},
   "outputs": [],
   "source": [
    "plt.scatter(df['cgpa'], df['iq'])\n",
    "plt.xlabel('cgpa')\n",
    "plt.ylabel('iq')\n",
    "plt.show()"
   ]
  },
  {
   "cell_type": "code",
   "execution_count": null,
   "id": "4f976c50-8dc6-411e-8281-8a2a6238ab4a",
   "metadata": {},
   "outputs": [],
   "source": [
    "from sklearn.cluster import KMeans"
   ]
  },
  {
   "cell_type": "code",
   "execution_count": null,
   "id": "cde9b227-a5db-4044-84fc-50799f5a19ad",
   "metadata": {},
   "outputs": [],
   "source": [
    "wcss = []\n",
    "\n",
    "for i in range(1, 11):\n",
    "    km = KMeans(n_clusters = i)\n",
    "    km.fit_predict(df)\n",
    "    wcss.append(km.inertia_)"
   ]
  },
  {
   "cell_type": "code",
   "execution_count": null,
   "id": "b71a3a63-8bc9-48ec-95fc-62555aa6d246",
   "metadata": {},
   "outputs": [],
   "source": [
    "wcss"
   ]
  },
  {
   "cell_type": "code",
   "execution_count": null,
   "id": "28026bf8-a5bd-43b5-8254-6d3abf1aa07f",
   "metadata": {},
   "outputs": [],
   "source": [
    "plt.plot(range(1,11), wcss)\n",
    "plt.grid()\n",
    "plt.show()"
   ]
  },
  {
   "cell_type": "code",
   "execution_count": null,
   "id": "173fcfd3-c506-4174-9b4f-b4640c17cb13",
   "metadata": {},
   "outputs": [],
   "source": [
    "X = df.iloc[:,:].values\n",
    "km = KMeans (n_clusters = 4)\n",
    "y_means = km.fit_predict(X)"
   ]
  },
  {
   "cell_type": "code",
   "execution_count": null,
   "id": "bba35d03-62c8-4d16-aba4-e6214f75b40c",
   "metadata": {},
   "outputs": [],
   "source": [
    "y_means"
   ]
  },
  {
   "cell_type": "code",
   "execution_count": null,
   "id": "7bf48b32-64b9-43ad-9edb-c58b707b5529",
   "metadata": {},
   "outputs": [],
   "source": [
    "X[y_means == 3, 1]"
   ]
  },
  {
   "cell_type": "code",
   "execution_count": null,
   "id": "d8ff0614-c890-4d6e-af18-422e870c37d1",
   "metadata": {},
   "outputs": [],
   "source": [
    "plt.scatter(X[y_means == 0, 0], X[y_means == 0, 1], color = 'blue')\n",
    "plt.scatter(X[y_means == 1, 0], X[y_means == 1, 1], color = 'red')\n",
    "plt.scatter(X[y_means == 2, 0], X[y_means == 2, 1], color = 'green')\n",
    "plt.scatter(X[y_means == 3, 0], X[y_means == 3, 1], color = 'yellow')\n",
    "\n",
    "plt.xlabel('cgpa')\n",
    "plt.ylabel('iq')\n",
    "plt.show()"
   ]
  }
 ],
 "metadata": {
  "kernelspec": {
   "display_name": "Python 3 (ipykernel)",
   "language": "python",
   "name": "python3"
  },
  "language_info": {
   "codemirror_mode": {
    "name": "ipython",
    "version": 3
   },
   "file_extension": ".py",
   "mimetype": "text/x-python",
   "name": "python",
   "nbconvert_exporter": "python",
   "pygments_lexer": "ipython3",
   "version": "3.13.0"
  }
 },
 "nbformat": 4,
 "nbformat_minor": 5
}
