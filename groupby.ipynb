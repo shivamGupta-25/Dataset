{
 "cells": [
  {
   "cell_type": "code",
   "execution_count": null,
   "id": "ae278f21-3616-462c-a856-780ae4c26af1",
   "metadata": {},
   "outputs": [],
   "source": [
    "import pandas as pd"
   ]
  },
  {
   "cell_type": "code",
   "execution_count": null,
   "id": "8ee829f7-adb5-46da-aa4d-21b04cc43947",
   "metadata": {},
   "outputs": [],
   "source": [
    "df = pd.read_csv(\"Flavors.csv\")"
   ]
  },
  {
   "cell_type": "code",
   "execution_count": null,
   "id": "c270cef9-e932-4d42-8e2f-20e82c7f7146",
   "metadata": {},
   "outputs": [],
   "source": [
    "df"
   ]
  },
  {
   "cell_type": "code",
   "execution_count": null,
   "id": "87c417c0-414b-4790-8d4c-5003f20244d9",
   "metadata": {},
   "outputs": [],
   "source": [
    "group_by_flavour = df.groupby('Base Flavor')"
   ]
  },
  {
   "cell_type": "code",
   "execution_count": null,
   "id": "3586923e-cb2a-4cc6-9206-e21ceea1f66e",
   "metadata": {},
   "outputs": [],
   "source": [
    "group_by_flavour.mean(numeric_only = True)"
   ]
  },
  {
   "cell_type": "code",
   "execution_count": null,
   "id": "96a54e37-9e23-42a3-9fed-b4f9f0e90a7b",
   "metadata": {},
   "outputs": [],
   "source": [
    "group_by_flavour = df.groupby('Base Flavor').mean(numeric_only = True)"
   ]
  },
  {
   "cell_type": "code",
   "execution_count": null,
   "id": "74da6629-0c84-427c-ad78-1b16255dd144",
   "metadata": {},
   "outputs": [],
   "source": [
    "group_by_flavour"
   ]
  },
  {
   "cell_type": "code",
   "execution_count": null,
   "id": "aece50a4-77ff-435a-89a3-6d03cab03b74",
   "metadata": {},
   "outputs": [],
   "source": [
    "df.groupby('Base Flavor').count()"
   ]
  },
  {
   "cell_type": "code",
   "execution_count": null,
   "id": "d5e0be15-62bb-4817-b002-3f58369974e1",
   "metadata": {},
   "outputs": [],
   "source": [
    "df.groupby('Base Flavor').min()"
   ]
  },
  {
   "cell_type": "code",
   "execution_count": null,
   "id": "4c242600-f76e-4f23-9a9b-1a74be9cfb3a",
   "metadata": {},
   "outputs": [],
   "source": [
    "df.groupby('Base Flavor').max()"
   ]
  },
  {
   "cell_type": "code",
   "execution_count": null,
   "id": "7b8bd80c-1642-444c-9580-1d40ea4a4c5f",
   "metadata": {},
   "outputs": [],
   "source": [
    "df.groupby('Base Flavor').sum(numeric_only = True)"
   ]
  },
  {
   "cell_type": "code",
   "execution_count": null,
   "id": "4c3cd6a9-9ffa-487c-a238-a4534b8b5c1a",
   "metadata": {},
   "outputs": [],
   "source": [
    "df.groupby('Base Flavor').agg({\"Flavor Rating\" : ['mean', 'max', 'count', 'sum'], \"Texture Rating\" : ['mean', 'max', 'count', 'sum']})"
   ]
  },
  {
   "cell_type": "code",
   "execution_count": null,
   "id": "c6878d56-b4c0-4989-9ca3-da848a231b40",
   "metadata": {},
   "outputs": [],
   "source": [
    "df.groupby(['Base Flavor', 'Liked']).agg({\"Flavor Rating\" : ['mean', 'max', 'count', 'sum']})"
   ]
  },
  {
   "cell_type": "code",
   "execution_count": null,
   "id": "a74d2ecc-0a8d-4fa0-a621-86aa9ed047f4",
   "metadata": {},
   "outputs": [],
   "source": [
    "df.groupby('Base Flavor').describe()"
   ]
  },
  {
   "cell_type": "code",
   "execution_count": null,
   "id": "10a0d3b1-8f13-4b7d-ba94-df0f66a9bd5a",
   "metadata": {},
   "outputs": [],
   "source": []
  }
 ],
 "metadata": {
  "kernelspec": {
   "display_name": "Python 3 (ipykernel)",
   "language": "python",
   "name": "python3"
  },
  "language_info": {
   "codemirror_mode": {
    "name": "ipython",
    "version": 3
   },
   "file_extension": ".py",
   "mimetype": "text/x-python",
   "name": "python",
   "nbconvert_exporter": "python",
   "pygments_lexer": "ipython3",
   "version": "3.13.0"
  }
 },
 "nbformat": 4,
 "nbformat_minor": 5
}
