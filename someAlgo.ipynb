{
 "cells": [
  {
   "cell_type": "markdown",
   "id": "14920c8a-3ffa-4423-991c-220a75ea6b95",
   "metadata": {},
   "source": [
    "pip install scikit-learn"
   ]
  },
  {
   "cell_type": "code",
   "execution_count": null,
   "id": "9364e11b-b8d4-4960-b9d4-1b0f08d3ffbd",
   "metadata": {},
   "outputs": [],
   "source": [
    "import pandas as pd\n",
    "import numpy as np\n",
    "import sklearn\n",
    "import matplotlib.pyplot as plt\n",
    "from sklearn.cluster import KMeans\n",
    "import seaborn as sns"
   ]
  },
  {
   "cell_type": "markdown",
   "id": "e98b9c74-f38c-4bfc-81c0-0458f0ed58cb",
   "metadata": {},
   "source": [
    "#### Perform density-based clustering algorithms on a downloaded dataset and evaluate the cluster quality by changing the algorithm's parameters."
   ]
  },
  {
   "cell_type": "markdown",
   "id": "6379668c-4fbf-4e8e-9667-41f098b6f128",
   "metadata": {},
   "source": [
    "Density-Based Spatial Clustering of Applications with Noise\n",
    "\n",
    "1. mininum points is having number of points that must exist from the point\n",
    "2. epsilon is distane around each object"
   ]
  },
  {
   "cell_type": "code",
   "execution_count": null,
   "id": "154f799f-010e-4843-a4e5-4cb4a357b525",
   "metadata": {},
   "outputs": [],
   "source": [
    "df = pd.read_csv(r\"D:\\DataMining\\Mall_customers.csv\")"
   ]
  },
  {
   "cell_type": "code",
   "execution_count": null,
   "id": "90b46ae2-86dd-4645-a97a-e09d1f7c0f33",
   "metadata": {},
   "outputs": [],
   "source": [
    "df.head()"
   ]
  },
  {
   "cell_type": "code",
   "execution_count": null,
   "id": "81686919-33a8-4e5f-b77e-e52695a6af7d",
   "metadata": {},
   "outputs": [],
   "source": [
    "df.shape"
   ]
  },
  {
   "cell_type": "code",
   "execution_count": null,
   "id": "61396c0d-b7cc-4dae-8fba-ed2e837f076a",
   "metadata": {},
   "outputs": [],
   "source": [
    "df = df.iloc[:, [3,4]].values"
   ]
  },
  {
   "cell_type": "code",
   "execution_count": null,
   "id": "d708ae3d-744f-4565-8a73-9ce4568f5b51",
   "metadata": {},
   "outputs": [],
   "source": [
    "df"
   ]
  },
  {
   "cell_type": "code",
   "execution_count": null,
   "id": "96a8e27e-b664-45d2-be2e-492a7888c1a7",
   "metadata": {},
   "outputs": [],
   "source": [
    "plt.scatter(df[:, 0], df[:, 1], s = 10, c = 'black')\n",
    "plt.show()"
   ]
  },
  {
   "cell_type": "code",
   "execution_count": null,
   "id": "103595b4-d9a2-4086-bf09-48298c2205a8",
   "metadata": {},
   "outputs": [],
   "source": [
    "wcss = []\n",
    "\n",
    "for i in range(1, 11):\n",
    "    kmeans = KMeans(n_clusters = i,\n",
    "    init = 'k-means++', max_iter = 300, n_init = 10)\n",
    "    kmeans.fit(df)\n",
    "    wcss.append(kmeans.inertia_)"
   ]
  },
  {
   "cell_type": "code",
   "execution_count": null,
   "id": "b4c7754b-9ef6-46ed-b0bc-5fd0a6277e7e",
   "metadata": {},
   "outputs": [],
   "source": [
    "plt.plot(range(1, 11), wcss)\n",
    "plt.title(\"The Elbow Methos\")\n",
    "plt.xlabel('Number of Cluster')\n",
    "plt.ylabel('WCSS')\n",
    "plt.grid()\n",
    "plt.plot()"
   ]
  },
  {
   "cell_type": "code",
   "execution_count": null,
   "id": "6db8c045-ebdf-4ec0-8dd1-21ddf7ae5044",
   "metadata": {},
   "outputs": [],
   "source": [
    "from sklearn.cluster import DBSCAN"
   ]
  },
  {
   "cell_type": "code",
   "execution_count": null,
   "id": "59b9c363-4fb5-4887-a947-fbb43d151d66",
   "metadata": {},
   "outputs": [],
   "source": [
    "dbscan = DBSCAN(eps=5, min_samples=5)"
   ]
  },
  {
   "cell_type": "code",
   "execution_count": null,
   "id": "be812421-fa74-4d4b-86b7-6dfbeb44b8cf",
   "metadata": {},
   "outputs": [],
   "source": [
    "labels = dbscan.fit_predict(df)"
   ]
  },
  {
   "cell_type": "code",
   "execution_count": null,
   "id": "51e01739-c9f4-42c8-b6c2-4f3b885c3c06",
   "metadata": {},
   "outputs": [],
   "source": [
    "np.unique(labels)"
   ]
  },
  {
   "cell_type": "code",
   "execution_count": null,
   "id": "94f9f4b7-f2e9-48eb-b1af-0a0056ffdfb0",
   "metadata": {},
   "outputs": [],
   "source": [
    "plt.scatter(df[labels == -1, 0], df[labels == -1, 1], s = 20, c='black')\n",
    "plt.scatter(df[labels == 0, 0], df[labels == 0, 1], s = 20, c='blue')\n",
    "plt.scatter(df[labels == 1, 0], df[labels == 1, 1], s = 20, c='red')\n",
    "plt.scatter(df[labels == 2, 0], df[labels == 2, 1], s = 20, c='green')\n",
    "plt.scatter(df[labels == 3, 0], df[labels == 3, 1], s = 20, c='brown')\n",
    "plt.scatter(df[labels == 4, 0], df[labels == 4, 1], s = 20, c='pink')\n",
    "\n",
    "plt.show()"
   ]
  },
  {
   "cell_type": "markdown",
   "id": "ebc0bd71-8173-43fe-8d34-2041cba90c4a",
   "metadata": {},
   "source": [
    "#### Perform hierarchical clustering algorithms on a downloaded dataset and evaluate the cluster quality by changing the algorithm's parameters "
   ]
  },
  {
   "cell_type": "code",
   "execution_count": null,
   "id": "1ad47743-2f3c-49e2-a074-53cfbee886c8",
   "metadata": {},
   "outputs": [],
   "source": [
    "df = pd.read_csv(r\"D:\\DataMining\\Mall_customers.csv\")"
   ]
  },
  {
   "cell_type": "code",
   "execution_count": null,
   "id": "d4f045cb-2a54-4838-aab9-40a2a5904cde",
   "metadata": {},
   "outputs": [],
   "source": [
    "df.head()"
   ]
  },
  {
   "cell_type": "code",
   "execution_count": null,
   "id": "0278f171-11bb-430a-a94f-a926c94db9d9",
   "metadata": {},
   "outputs": [],
   "source": [
    "df = df.iloc[:, [3,4]].values"
   ]
  },
  {
   "cell_type": "code",
   "execution_count": null,
   "id": "0bbbf6c3-47c0-4760-87a4-7d054e83f97d",
   "metadata": {},
   "outputs": [],
   "source": [
    "df"
   ]
  },
  {
   "cell_type": "code",
   "execution_count": null,
   "id": "fc6615d7-c876-46d6-aff2-04421b3e0e24",
   "metadata": {},
   "outputs": [],
   "source": [
    "import scipy.cluster.hierarchy as sch"
   ]
  },
  {
   "cell_type": "code",
   "execution_count": null,
   "id": "87f362d2-7a95-4037-905d-9ca5f78e803d",
   "metadata": {},
   "outputs": [],
   "source": [
    "plt.figure(figsize = (10, 7))\n",
    "plt.title(\"Customer Dendogram\")\n",
    "dend = sch.dendrogram(sch.linkage(df, method = 'ward'))"
   ]
  },
  {
   "cell_type": "code",
   "execution_count": null,
   "id": "b8eaf437-2e68-4076-9199-8894fc4ff118",
   "metadata": {},
   "outputs": [],
   "source": [
    "from sklearn.cluster import AgglomerativeClustering"
   ]
  },
  {
   "cell_type": "code",
   "execution_count": null,
   "id": "ee2fa953-b437-411b-8099-7b7bcd17bde2",
   "metadata": {},
   "outputs": [],
   "source": [
    "cluster = AgglomerativeClustering(n_clusters = 5, metric = 'euclidean', linkage = 'ward')\n",
    "labels_= cluster.fit_predict(df)"
   ]
  },
  {
   "cell_type": "code",
   "execution_count": null,
   "id": "397525c7-753f-41db-bf64-270f38ec7736",
   "metadata": {},
   "outputs": [],
   "source": [
    "labels_"
   ]
  },
  {
   "cell_type": "code",
   "execution_count": null,
   "id": "43269d17-5ca9-415a-b43f-f258502a8a67",
   "metadata": {},
   "outputs": [],
   "source": [
    "plt.figure(figsize = (10, 6))\n",
    "plt.scatter(df[:,0], df[:, 1], c= cluster.labels_, cmap = 'rainbow')\n",
    "plt.plot()"
   ]
  },
  {
   "cell_type": "markdown",
   "id": "cf335693-12b3-4a6d-9ea7-44c8c1d96dda",
   "metadata": {},
   "source": [
    "#### Apply simple K-means algorithm for clustering any dataset."
   ]
  },
  {
   "cell_type": "code",
   "execution_count": null,
   "id": "313f3a49-e097-42ae-832c-1b64c1e07e4d",
   "metadata": {},
   "outputs": [],
   "source": [
    "df = pd.read_csv('student_clustering.csv')"
   ]
  },
  {
   "cell_type": "code",
   "execution_count": null,
   "id": "f28cf122-2499-4bbe-acb6-3dddd9885995",
   "metadata": {},
   "outputs": [],
   "source": [
    "df.head()"
   ]
  },
  {
   "cell_type": "code",
   "execution_count": null,
   "id": "081d4227-c4eb-449c-bb7b-ff2bd6f62cba",
   "metadata": {},
   "outputs": [],
   "source": [
    "df.shape"
   ]
  },
  {
   "cell_type": "code",
   "execution_count": null,
   "id": "53201433-84e2-4989-9071-1333fd239022",
   "metadata": {},
   "outputs": [],
   "source": [
    "#### students data of 200 students with Attribute like cgpa and IQ\n",
    "#### on the basic of these two values we need to cluster them"
   ]
  },
  {
   "cell_type": "code",
   "execution_count": null,
   "id": "379c1742-66e2-4ffd-8666-3470a4a0d595",
   "metadata": {},
   "outputs": [],
   "source": [
    "plt.scatter(df['cgpa'], df['iq'])\n",
    "plt.xlabel('cgpa')\n",
    "plt.ylabel('iq')\n",
    "plt.show()"
   ]
  },
  {
   "cell_type": "code",
   "execution_count": null,
   "id": "a9214fa5-ac80-4b13-8ceb-e7ec74aa02ff",
   "metadata": {},
   "outputs": [],
   "source": [
    "from sklearn.cluster import KMeans"
   ]
  },
  {
   "cell_type": "code",
   "execution_count": null,
   "id": "1b7fd2ab-7a78-452d-9449-127c81ceaba2",
   "metadata": {},
   "outputs": [],
   "source": [
    "wcss = []\n",
    "\n",
    "for i in range(1, 11):\n",
    "    km = KMeans(n_clusters = i)\n",
    "    km.fit_predict(df)\n",
    "    wcss.append(km.inertia_)"
   ]
  },
  {
   "cell_type": "code",
   "execution_count": null,
   "id": "c8a63e77-b9ab-4862-85d2-ba3f9ca850c5",
   "metadata": {},
   "outputs": [],
   "source": [
    "wcss"
   ]
  },
  {
   "cell_type": "code",
   "execution_count": null,
   "id": "d5603734-4fd2-4e18-ba54-f392693913e7",
   "metadata": {},
   "outputs": [],
   "source": [
    "plt.plot(range(1,11), wcss)\n",
    "plt.grid()\n",
    "plt.show()"
   ]
  },
  {
   "cell_type": "code",
   "execution_count": null,
   "id": "5275a5e6-5b1e-42dc-9bb7-9878d3814e99",
   "metadata": {},
   "outputs": [],
   "source": [
    "X = df.iloc[:,:].values\n",
    "km = KMeans (n_clusters = 4)\n",
    "y_means = km.fit_predict(X)"
   ]
  },
  {
   "cell_type": "code",
   "execution_count": null,
   "id": "3a536d4e-319f-49d7-bb94-2758d3876163",
   "metadata": {},
   "outputs": [],
   "source": [
    "y_means"
   ]
  },
  {
   "cell_type": "code",
   "execution_count": null,
   "id": "d1fd22f9-2fdf-4f68-b94a-1850ef82509c",
   "metadata": {},
   "outputs": [],
   "source": [
    "plt.scatter(X[y_means == 0, 0], X[y_means == 0, 1], color = 'blue')\n",
    "plt.scatter(X[y_means == 1, 0], X[y_means == 1, 1], color = 'red')\n",
    "plt.scatter(X[y_means == 2, 0], X[y_means == 2, 1], color = 'green')\n",
    "plt.scatter(X[y_means == 3, 0], X[y_means == 3, 1], color = 'yellow')\n",
    "\n",
    "plt.xlabel('cgpa')\n",
    "plt.ylabel('iq')\n",
    "plt.show()"
   ]
  },
  {
   "cell_type": "markdown",
   "id": "0bf56dd7-11d2-49ce-8999-c1230e399b69",
   "metadata": {},
   "source": [
    "#### Write a code to implement discretization"
   ]
  },
  {
   "cell_type": "markdown",
   "id": "3e3365cf-19a7-4e23-a2f5-b549688a90ab",
   "metadata": {},
   "source": [
    "##### discretization or binning\n",
    "\n",
    "(max - min) / bins"
   ]
  },
  {
   "cell_type": "code",
   "execution_count": null,
   "id": "e6f4613a-e5cd-4820-a1e3-6b796ab0be41",
   "metadata": {},
   "outputs": [],
   "source": [
    "df = pd.read_csv('train.csv', usecols = ['Age', 'Fare', 'Survived'])"
   ]
  },
  {
   "cell_type": "code",
   "execution_count": null,
   "id": "ddade9b1-6d29-47ad-9400-47ea6a8956bb",
   "metadata": {},
   "outputs": [],
   "source": [
    "df.dropna(inplace = True)"
   ]
  },
  {
   "cell_type": "code",
   "execution_count": null,
   "id": "edbf826c-4612-4167-9539-a2b4f0522a1f",
   "metadata": {},
   "outputs": [],
   "source": [
    "df.shape"
   ]
  },
  {
   "cell_type": "code",
   "execution_count": null,
   "id": "01bd790c-0d2d-43ec-b5f7-a41a5c897ae8",
   "metadata": {},
   "outputs": [],
   "source": [
    "df.head()"
   ]
  },
  {
   "cell_type": "code",
   "execution_count": null,
   "id": "da2a2077-b6de-4fab-ad1a-8b527deaad60",
   "metadata": {},
   "outputs": [],
   "source": [
    "X = df.iloc[:,1:]\n",
    "y = df.iloc[:,0]"
   ]
  },
  {
   "cell_type": "code",
   "execution_count": null,
   "id": "f8e25d0b-7ae6-4536-9cd8-ae0a256744e3",
   "metadata": {},
   "outputs": [],
   "source": [
    "from sklearn.preprocessing import KBinsDiscretizer\n",
    "from sklearn.compose import ColumnTransformer\n",
    "from sklearn.tree import DecisionTreeClassifier\n",
    "from sklearn.model_selection import cross_val_score"
   ]
  },
  {
   "cell_type": "code",
   "execution_count": null,
   "id": "2133fcc7-fac7-4646-9874-c4264c2c3553",
   "metadata": {},
   "outputs": [],
   "source": [
    "def discretize(bins,strategy):\n",
    "    kbin_age = KBinsDiscretizer(n_bins=bins,encode='ordinal',strategy=strategy)\n",
    "    kbin_fare = KBinsDiscretizer(n_bins=bins,encode='ordinal',strategy=strategy)\n",
    "    \n",
    "    trf = ColumnTransformer([\n",
    "        ('first',kbin_age,[0]),\n",
    "        ('second',kbin_fare,[1])\n",
    "    ])\n",
    "    \n",
    "    X_trf = trf.fit_transform(X)\n",
    "    print(np.mean(cross_val_score(DecisionTreeClassifier(),X,y,cv=10,scoring='accuracy')))\n",
    "    \n",
    "    plt.figure(figsize=(14,4))\n",
    "    plt.subplot(121)\n",
    "    plt.hist(X['Age'])\n",
    "    plt.title(\"Before\")\n",
    "\n",
    "    plt.subplot(122)\n",
    "    plt.hist(X_trf[:,0],color='red')\n",
    "    plt.title(\"After\")\n",
    "\n",
    "    plt.show()\n",
    "    \n",
    "    plt.figure(figsize=(14,4))\n",
    "    plt.subplot(121)\n",
    "    plt.hist(X['Fare'])\n",
    "    plt.title(\"Before\")\n",
    "\n",
    "    plt.subplot(122)\n",
    "    plt.hist(X_trf[:,1],color='red')\n",
    "    plt.title(\"Fare\")\n",
    "\n",
    "    plt.show()"
   ]
  },
  {
   "cell_type": "code",
   "execution_count": null,
   "id": "064456dc-46e3-4030-a217-147f86101d1e",
   "metadata": {},
   "outputs": [],
   "source": [
    "discretize(5,'quantile') # kmeans, uniform, quantile"
   ]
  },
  {
   "cell_type": "code",
   "execution_count": null,
   "id": "ccfedbe9-3d78-4717-9e51-1edb9a127b03",
   "metadata": {},
   "outputs": [],
   "source": []
  }
 ],
 "metadata": {
  "kernelspec": {
   "display_name": "Python 3 (ipykernel)",
   "language": "python",
   "name": "python3"
  },
  "language_info": {
   "codemirror_mode": {
    "name": "ipython",
    "version": 3
   },
   "file_extension": ".py",
   "mimetype": "text/x-python",
   "name": "python",
   "nbconvert_exporter": "python",
   "pygments_lexer": "ipython3",
   "version": "3.13.0"
  }
 },
 "nbformat": 4,
 "nbformat_minor": 5
}
