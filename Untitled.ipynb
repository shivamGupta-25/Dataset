{
 "cells": [
  {
   "cell_type": "code",
   "execution_count": null,
   "id": "07f631a7-cb93-4563-abea-2310b04691d8",
   "metadata": {},
   "outputs": [],
   "source": [
    "import pandas as pd\n",
    "from sklearn.datasets import load_iris\n",
    "# Load Iris dataset\n",
    "iris = load_iris()\n",
    "df = pd.DataFrame(data=iris.data, columns=iris.feature_names)\n",
    "df['species'] = pd.Categorical.from_codes(iris.target, iris.target_names)\n",
    "print(\"First 5 rows of the dataset:\")\n",
    "print(df.head())"
   ]
  },
  {
   "cell_type": "markdown",
   "id": "36e9bf74-3c38-4c0a-8376-52f7f528449d",
   "metadata": {},
   "source": [
    "#### Standardization and Normalization"
   ]
  },
  {
   "cell_type": "code",
   "execution_count": null,
   "id": "30cfa589-085f-4c90-949e-d60de78ab00e",
   "metadata": {},
   "outputs": [],
   "source": [
    "# Standardization\n",
    "from sklearn.preprocessing import StandardScaler\n",
    "# Features to standardize\n",
    "features = iris.feature_names\n",
    "# Initialize the scaler\n",
    "scaler = StandardScaler()\n",
    "# Fit and transform the data\n",
    "df_standardized = df.copy()\n",
    "df_standardized[features] = scaler.fit_transform(df[features])\n",
    "print(\"\\nFirst 5 rows after standardization:\")\n",
    "print(df_standardized.head())"
   ]
  },
  {
   "cell_type": "code",
   "execution_count": null,
   "id": "41f06bdc-ecf4-487d-89a5-9eb1f76ec376",
   "metadata": {},
   "outputs": [],
   "source": [
    "# Normalization\n",
    "from sklearn.preprocessing import MinMaxScaler\n",
    "# Initialize the scaler\n",
    "min_max_scaler = MinMaxScaler()\n",
    "# Fit and transform the data\n",
    "df_normalized = df.copy()\n",
    "df_normalized[features] = min_max_scaler.fit_transform(df[features])\n",
    "print(\"\\nFirst 5 rows after normalization:\")\n",
    "print(df_normalized.head())\n"
   ]
  },
  {
   "cell_type": "markdown",
   "id": "b9aff62c-d9f1-46aa-a4d5-f1c7d624a58a",
   "metadata": {},
   "source": [
    "## Transformation"
   ]
  },
  {
   "cell_type": "code",
   "execution_count": null,
   "id": "1a817727-d106-4092-aa3f-1b02711ed7ef",
   "metadata": {},
   "outputs": [],
   "source": [
    "import numpy as np\n",
    "# Apply log transformation (adding a small constant to avoid log(0))\n",
    "df_transformed = df.copy()\n",
    "df_transformed[features] = np.log1p(df[features])\n",
    "print(\"\\nFirst 5 rows after log transformation:\")\n",
    "print(df_transformed.head())"
   ]
  },
  {
   "cell_type": "markdown",
   "id": "b1a73589-6e3e-4925-a4b8-775028b5565b",
   "metadata": {},
   "source": [
    "## Aggregation (Group By and Aggregate, Pivot Table)"
   ]
  },
  {
   "cell_type": "code",
   "execution_count": null,
   "id": "f68bd9e3-c5db-471b-8409-14eec2d5ec3f",
   "metadata": {},
   "outputs": [],
   "source": [
    "# Group by species and calculate mean\n",
    "df_grouped_mean = df.groupby('species').mean()\n",
    "print(\"\\nMean of features grouped by species:\")\n",
    "print(df_grouped_mean)\n"
   ]
  },
  {
   "cell_type": "code",
   "execution_count": null,
   "id": "d3e22955-1fc3-4702-b500-28929a24fc43",
   "metadata": {},
   "outputs": [],
   "source": [
    "# Pivot Table\n",
    "pivot_table = pd.pivot_table(df, values=features, index='species', aggfunc='mean')\n",
    "print(\"\\nPivot table with mean values:\")\n",
    "print(pivot_table)\n"
   ]
  },
  {
   "cell_type": "code",
   "execution_count": null,
   "id": "45347264-9233-4e24-864a-bd0711400d26",
   "metadata": {},
   "outputs": [],
   "source": [
    "'''Discretization (Binning) Discretization involves converting continuous\n",
    "variables into categorical bins. For instance, we can bin sepal\n",
    "length into categories like \"Short\", \"Medium\", and \"Long\".'''"
   ]
  },
  {
   "cell_type": "code",
   "execution_count": null,
   "id": "81698908-8030-46dc-84e3-e32b4dc92fe3",
   "metadata": {},
   "outputs": [],
   "source": [
    "# Define bins and labels\n",
    "bins = [0, 5, 6, 7, 8]\n",
    "labels = ['Very Short', 'Short', 'Medium', 'Long']\n",
    "# Create a new column with binned sepal length\n",
    "df['sepal length category'] = pd.cut(df['sepal length (cm)'], bins=bins, labels=labels)\n",
    "print(\"\\nFirst 5 rows with discretized sepal length:\")\n",
    "print(df[['sepal length (cm)', 'sepal length category']].head())\n"
   ]
  },
  {
   "cell_type": "code",
   "execution_count": null,
   "id": "beeb7337-81f1-46c5-86da-f97d45e48da6",
   "metadata": {},
   "outputs": [],
   "source": [
    "'''Binarization: Binarization converts numerical features into binary\n",
    "values based on a threshold. For example, we can binarize petal length\n",
    "where values above the median are marked as 1 and others as 0.'''"
   ]
  },
  {
   "cell_type": "code",
   "execution_count": null,
   "id": "030a1809-bd50-409d-b662-88160b9b4330",
   "metadata": {},
   "outputs": [],
   "source": [
    "from sklearn.preprocessing import Binarizer\n",
    "# Initialize the binarizer with threshold as the median\n",
    "median_petal_length = df['petal length (cm)'].median()\n",
    "binarizer = Binarizer(threshold=median_petal_length)\n",
    "# Apply binarization\n",
    "df['petal length binarized'] = binarizer.fit_transform(df[['petal length (cm)']])\n",
    "print(\"\\nFirst 5 rows with binarized petal length:\")\n",
    "print(df[['petal length (cm)', 'petal length binarized']].head())\n"
   ]
  },
  {
   "cell_type": "markdown",
   "id": "06dc47e6-04d2-4f80-80c4-f6ef794f50b9",
   "metadata": {},
   "source": [
    "#### Sampling"
   ]
  },
  {
   "cell_type": "code",
   "execution_count": null,
   "id": "9b4b56bb-fb1b-46fe-945e-c96a458055b9",
   "metadata": {},
   "outputs": [],
   "source": [
    "# Random Sampling\n",
    "# Set a random seed for reproducibility\n",
    "random_seed = 42\n",
    "# Randomly sample 10% of the data\n",
    "df_sampled = df.sample(frac=0.1, random_state=random_seed)\n",
    "print(\"\\nRandomly sampled 10% of the data:\")\n",
    "print(df_sampled)"
   ]
  },
  {
   "cell_type": "code",
   "execution_count": null,
   "id": "94d508b3-423a-491b-a5b8-4e9733bcec76",
   "metadata": {},
   "outputs": [],
   "source": [
    "#Stratified Sampling\n",
    "from sklearn.model_selection import train_test_split\n",
    "# Perform stratified sampling\n",
    "train, test = train_test_split(df, test_size=0.1, stratify=df['species'], random_state = 45)\n",
    "print(\"\\nStratified sampled 10% of the data:\")\n",
    "print(test['species'].value_counts())"
   ]
  },
  {
   "cell_type": "code",
   "execution_count": null,
   "id": "91de920b-f987-4b1d-ba13-e84ac19c304a",
   "metadata": {},
   "outputs": [],
   "source": []
  }
 ],
 "metadata": {
  "kernelspec": {
   "display_name": "Python 3 (ipykernel)",
   "language": "python",
   "name": "python3"
  },
  "language_info": {
   "codemirror_mode": {
    "name": "ipython",
    "version": 3
   },
   "file_extension": ".py",
   "mimetype": "text/x-python",
   "name": "python",
   "nbconvert_exporter": "python",
   "pygments_lexer": "ipython3",
   "version": "3.13.0"
  }
 },
 "nbformat": 4,
 "nbformat_minor": 5
}
