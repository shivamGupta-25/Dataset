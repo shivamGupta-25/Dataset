{
 "cells": [
  {
   "cell_type": "code",
   "execution_count": null,
   "id": "eccf449f-ea9e-498f-b3f5-1f021ec98a72",
   "metadata": {},
   "outputs": [],
   "source": [
    "# Import necessary libraries\n",
    "import matplotlib.pyplot as plt\n",
    "from sklearn.datasets import load_wine\n",
    "from sklearn.cluster import KMeans\n",
    "from sklearn.preprocessing import StandardScaler\n",
    "from sklearn.metrics import silhouette_score\n",
    "\n",
    "# Load the dataset\n",
    "wine = load_wine()\n",
    "x = wine.data\n",
    "\n",
    "# Standardize the features\n",
    "scaler = StandardScaler()\n",
    "x1 = scaler.fit_transform(x)\n",
    "\n",
    "# Define the partitioning clustering function\n",
    "def part(x, n_clusters):\n",
    "    kmean = KMeans(n_clusters=n_clusters, random_state=42)\n",
    "    labels = kmean.fit_predict(x)\n",
    "    silhouette = silhouette_score(x, labels)\n",
    "    return labels, silhouette\n",
    "\n",
    "# Evaluate clustering for different numbers of clusters\n",
    "partition_result = {}\n",
    "for n_clusters in range(2, 11):  # Cluster range from 2 to 10\n",
    "    labels, silhouette = part(x1, n_clusters)\n",
    "    partition_result[n_clusters] = silhouette\n",
    "\n",
    "# Plot silhouette scores\n",
    "plt.figure(figsize=(10, 6))\n",
    "plt.plot(list(partition_result.keys()), list(partition_result.values()), marker='o')\n",
    "plt.title(\"K-means Silhouette Scores\")\n",
    "plt.xlabel(\"Number of Clusters\")\n",
    "plt.ylabel(\"Silhouette Scores\")\n",
    "plt.grid()\n",
    "plt.show()\n"
   ]
  },
  {
   "cell_type": "code",
   "execution_count": null,
   "id": "f6688000-2afe-4e87-b8e8-1aeecd837ed0",
   "metadata": {},
   "outputs": [],
   "source": []
  }
 ],
 "metadata": {
  "kernelspec": {
   "display_name": "Python 3 (ipykernel)",
   "language": "python",
   "name": "python3"
  },
  "language_info": {
   "codemirror_mode": {
    "name": "ipython",
    "version": 3
   },
   "file_extension": ".py",
   "mimetype": "text/x-python",
   "name": "python",
   "nbconvert_exporter": "python",
   "pygments_lexer": "ipython3",
   "version": "3.13.0"
  }
 },
 "nbformat": 4,
 "nbformat_minor": 5
}
